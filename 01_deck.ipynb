{
 "cells": [
  {
   "cell_type": "code",
   "execution_count": null,
   "id": "ad378e66-bb83-4fc4-ad4c-6b913a33eb1b",
   "metadata": {},
   "outputs": [],
   "source": [
    "# default_exp deck"
   ]
  },
  {
   "cell_type": "markdown",
   "id": "b1e0e93d-2d93-4a71-9663-5c84be556368",
   "metadata": {},
   "source": [
    "# Deck\n",
    "> more details here"
   ]
  },
  {
   "cell_type": "code",
   "execution_count": null,
   "id": "609a09ff-91d3-4312-a2d9-f612386beeb5",
   "metadata": {},
   "outputs": [],
   "source": [
    "from nbdev import *"
   ]
  },
  {
   "cell_type": "code",
   "execution_count": null,
   "id": "3ecaad0e-84e1-4f44-bf08-d25267168b20",
   "metadata": {},
   "outputs": [],
   "source": [
    "#export\n",
    "from deck_of_cards.card import Card"
   ]
  },
  {
   "cell_type": "code",
   "execution_count": null,
   "id": "7ef6f86f-5913-4f54-a1ff-a00189f68bb2",
   "metadata": {},
   "outputs": [],
   "source": [
    "#export\n",
    "class Deck:\n",
    "    \"\"\"Represents a deck of cards.\n",
    "\n",
    "    Attributes:\n",
    "      cards: list of Card objects.\n",
    "    \"\"\"\n",
    "    \n",
    "    def __init__(self):\n",
    "        \"\"\"Initializes the Deck with 52 cards.\n",
    "        \"\"\"\n",
    "        self.cards = []\n",
    "        for suit in range(4):\n",
    "            for rank in range(1, 14):\n",
    "                card = Card(suit, rank)\n",
    "                self.cards.append(card)\n",
    "\n",
    "    def __str__(self):\n",
    "        \"\"\"Returns a string representation of the deck.\n",
    "        \"\"\"\n",
    "        res = []\n",
    "        for card in self.cards:\n",
    "            res.append(str(card))\n",
    "        return '\\n'.join(res)\n",
    "\n",
    "    def add_card(self, card):\n",
    "        \"\"\"Adds a card to the deck.\n",
    "\n",
    "        card: Card\n",
    "        \"\"\"\n",
    "        self.cards.append(card)\n",
    "\n",
    "    def remove_card(self, card):\n",
    "        \"\"\"Removes a card from the deck or raises exception if it is not there.\n",
    "        \n",
    "        card: Card\n",
    "        \"\"\"\n",
    "        self.cards.remove(card)\n",
    "\n",
    "    def pop_card(self, i=-1):\n",
    "        \"\"\"Removes and returns a card from the deck.\n",
    "\n",
    "        i: index of the card to pop; by default, pops the last card.\n",
    "        \"\"\"\n",
    "        return self.cards.pop(i)\n",
    "\n",
    "    def shuffle(self):\n",
    "        \"\"\"Shuffles the cards in this deck.\"\"\"\n",
    "        random.shuffle(self.cards)\n",
    "\n",
    "    def sort(self):\n",
    "        \"\"\"Sorts the cards in ascending order.\"\"\"\n",
    "        self.cards.sort()\n",
    "    \n",
    "\n",
    "    def move_cards(self, hand, num):\n",
    "        \"\"\"Moves the given number of cards from the deck into the Hand.\n",
    "\n",
    "        hand: destination Hand object\n",
    "        num: integer number of cards to move\n",
    "        \"\"\"\n",
    "        for i in range(num):\n",
    "            hand.add_card(self.pop_card())"
   ]
  },
  {
   "cell_type": "markdown",
   "id": "dbab9285-2d94-4924-869e-b2c7fa409663",
   "metadata": {},
   "source": [
    "A Deck of cards is a collection of `Card` objects"
   ]
  },
  {
   "cell_type": "code",
   "execution_count": null,
   "id": "1eeef6ad-2861-43af-90b7-6922e27ab08b",
   "metadata": {},
   "outputs": [],
   "source": [
    "deck = Deck()\n",
    "assert isinstance(deck.pop_card(), Card)"
   ]
  },
  {
   "cell_type": "code",
   "execution_count": null,
   "id": "56f94d59-c52a-4735-ac64-d0f2dafd8f61",
   "metadata": {},
   "outputs": [
    {
     "data": {
      "text/markdown": [
       "<h4 id=\"Deck.remove_card\" class=\"doc_header\"><code>Deck.remove_card</code><a href=\"__main__.py#L33\" class=\"source_link\" style=\"float:right\">[source]</a></h4>\n",
       "\n",
       "> <code>Deck.remove_card</code>(**`card`**)\n",
       "\n",
       "Removes a card from the deck or raises exception if it is not there.\n",
       "\n",
       "card: Card"
      ],
      "text/plain": [
       "<IPython.core.display.Markdown object>"
      ]
     },
     "metadata": {},
     "output_type": "display_data"
    }
   ],
   "source": [
    "show_doc(Deck.remove_card)"
   ]
  },
  {
   "cell_type": "code",
   "execution_count": null,
   "id": "53096f73-644d-4c78-a279-06e962ab389d",
   "metadata": {},
   "outputs": [],
   "source": [
    "card23 = Card(2,3)\n",
    "deck.remove_card(card23)"
   ]
  },
  {
   "cell_type": "code",
   "execution_count": null,
   "id": "3e638614-5f96-4ef2-bd8f-b8da4f337be7",
   "metadata": {},
   "outputs": [],
   "source": [
    "assert card23 not in deck.cards"
   ]
  },
  {
   "cell_type": "code",
   "execution_count": null,
   "id": "d8fb692a-5b6f-4d1c-b518-f14acff43ea0",
   "metadata": {},
   "outputs": [
    {
     "data": {
      "text/plain": [
       "10 of Hearts"
      ]
     },
     "execution_count": null,
     "metadata": {},
     "output_type": "execute_result"
    }
   ],
   "source": [
    "c = Card(2,10)\n",
    "assert c in deck.cards\n",
    "c"
   ]
  },
  {
   "cell_type": "code",
   "execution_count": null,
   "id": "a61f916b-c741-40dd-9dd2-bab00db5e885",
   "metadata": {},
   "outputs": [],
   "source": [
    "#export\n",
    "class Hand(Deck):\n",
    "    \"\"\"Represents a hand of playing cards.\"\"\"\n",
    "    \n",
    "    def __init__(self, label=''):\n",
    "        self.cards = []\n",
    "        self.label = label"
   ]
  },
  {
   "cell_type": "code",
   "execution_count": null,
   "id": "f48f3253-8245-47ca-ab58-62f0ed08f90b",
   "metadata": {},
   "outputs": [],
   "source": [
    "def find_defining_class(obj, method_name):\n",
    "    \"\"\"Finds and returns the class object that will provide \n",
    "    the definition of method_name (as a string) if it is\n",
    "    invoked on obj.\n",
    "\n",
    "    obj: any python object\n",
    "    method_name: string method name\n",
    "    \"\"\"\n",
    "    for ty in type(obj).mro():\n",
    "        if method_name in ty.__dict__:\n",
    "            return ty\n",
    "    return None"
   ]
  },
  {
   "cell_type": "code",
   "execution_count": null,
   "id": "947aaa8f-c898-42d6-a7b8-342be9158501",
   "metadata": {},
   "outputs": [
    {
     "name": "stdout",
     "output_type": "stream",
     "text": [
      "<class '__main__.Deck'>\n",
      "Jack of Diamonds\n",
      "King of Diamonds\n",
      "Jack of Hearts\n",
      "Queen of Hearts\n",
      "3 of Spades\n"
     ]
    }
   ],
   "source": [
    "deck = Deck()\n",
    "deck.shuffle()\n",
    "\n",
    "hand = Hand()\n",
    "print(find_defining_class(hand, 'shuffle'))\n",
    "print(find_defining_class(hand, 'shuffle'))\n",
    "\n",
    "deck.move_cards(hand, 5)\n",
    "hand.sort()\n",
    "print(hand)"
   ]
  },
  {
   "cell_type": "code",
   "execution_count": null,
   "id": "e45e6bdc-de12-4b92-baa1-650c3c7bbc8d",
   "metadata": {},
   "outputs": [],
   "source": [
    "def find_defining_class(obj, method_name):\n",
    "    \"\"\"Finds and returns the class object that will provide \n",
    "    the definition of method_name (as a string) if it is\n",
    "    invoked on obj.\n",
    "\n",
    "    obj: any python object\n",
    "    method_name: string method name\n",
    "    \"\"\"\n",
    "    for ty in type(obj).mro():\n",
    "        if method_name in ty.__dict__:\n",
    "            return ty\n",
    "    return None"
   ]
  },
  {
   "cell_type": "code",
   "execution_count": null,
   "id": "9c970d4f-8bec-4022-8148-4ea4e20b89ec",
   "metadata": {},
   "outputs": [
    {
     "data": {
      "text/plain": [
       "mappingproxy({'__module__': '__main__',\n",
       "              '__doc__': 'Represents a deck of cards.\\n\\n    Attributes:\\n      cards: list of Card objects.\\n    ',\n",
       "              '__init__': <function __main__.Deck.__init__(self)>,\n",
       "              '__str__': <function __main__.Deck.__str__(self)>,\n",
       "              'add_card': <function __main__.Deck.add_card(self, card)>,\n",
       "              'remove_card': <function __main__.Deck.remove_card(self, card)>,\n",
       "              'pop_card': <function __main__.Deck.pop_card(self, i=-1)>,\n",
       "              'shuffle': <function __main__.Deck.shuffle(self)>,\n",
       "              'sort': <function __main__.Deck.sort(self)>,\n",
       "              'move_cards': <function __main__.Deck.move_cards(self, hand, num)>,\n",
       "              '__dict__': <attribute '__dict__' of 'Deck' objects>,\n",
       "              '__weakref__': <attribute '__weakref__' of 'Deck' objects>})"
      ]
     },
     "execution_count": null,
     "metadata": {},
     "output_type": "execute_result"
    }
   ],
   "source": [
    "#hide\n",
    "type(hand).mro()[1].__dict__"
   ]
  },
  {
   "cell_type": "code",
   "execution_count": null,
   "id": "fca1937d-61a1-4ff3-a30c-88a181f3ebc1",
   "metadata": {},
   "outputs": [],
   "source": []
  }
 ],
 "metadata": {
  "kernelspec": {
   "display_name": "Python 3 (ipykernel)",
   "language": "python",
   "name": "python3"
  }
 },
 "nbformat": 4,
 "nbformat_minor": 5
}
